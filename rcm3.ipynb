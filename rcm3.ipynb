{
 "cells": [
  {
   "cell_type": "code",
   "execution_count": 182,
   "metadata": {},
   "outputs": [],
   "source": [
    "import numpy as np\n",
    "import pandas as pd\n",
    "import math\n",
    "from scipy.stats import pearsonr"
   ]
  },
  {
   "cell_type": "code",
   "execution_count": 183,
   "metadata": {},
   "outputs": [],
   "source": [
    "def rcm_result_protol(some_anime_id,some_result,df):\n",
    "    alist = []\n",
    "    for i in range(len(some_anime_id)):\n",
    "        for j in range(len(some_result)):\n",
    "            similarity = anime_Jaccard(df,some_anime_id[i],some_result[j])\n",
    "            alist.append(\n",
    "                {\n",
    "                    \"rcm_anime_id\":some_result[j],\n",
    "                    \"protol_anime_id\":some_anime_id[i],\n",
    "                    \"weight\":similarity\n",
    "                }\n",
    "            )\n",
    "    unique_dict = {}\n",
    "    sorted_list = sorted(alist, key=lambda x: x['weight'], reverse=True)\n",
    "    for item in sorted_list:\n",
    "        rcm_anime_id = item['rcm_anime_id']\n",
    "        if rcm_anime_id not in unique_dict:\n",
    "            unique_dict[rcm_anime_id] = item\n",
    "\n",
    "    unique_list = list(unique_dict.values())\n",
    "\n",
    "    return unique_list"
   ]
  },
  {
   "cell_type": "code",
   "execution_count": 184,
   "metadata": {},
   "outputs": [],
   "source": [
    "def rcm_result_with_slopeone(some_protol_result,user_id,df):\n",
    "    list = []\n",
    "    for i in range(len(some_protol_result)):\n",
    "        list.append({\n",
    "            \"rcm_anime_id\":some_protol_result[i][\"rcm_anime_id\"],\n",
    "            \"protol_anime_id\":some_protol_result[i][\"protol_anime_id\"],\n",
    "            \"predict_rating\":df.loc[(df['user_id'] == user_id) & (df['anime_id'] == some_protol_result[i][\"protol_anime_id\"])]['rating'].tolist()[0]+anime_rating_deficiency(df,some_protol_result[i]['protol_anime_id'],some_protol_result[i]['rcm_anime_id'])\n",
    "        })\n",
    "    return sorted(list,key=lambda x: x['predict_rating'], reverse=True)\n",
    "    "
   ]
  },
  {
   "cell_type": "code",
   "execution_count": 185,
   "metadata": {},
   "outputs": [],
   "source": [
    "def find_similiar_user(vector,df):\n",
    "    list=[]\n",
    "    matrix = []\n",
    "    for i in range(1000):\n",
    "        vector_or = df.loc[i+1].fillna(0)\n",
    "        # print(i)\n",
    "        pc = pearsonr(vector,vector_or)\n",
    "        list.append({\n",
    "            \"user_id\":i+1,\n",
    "            \"statistic\":pc[0],\n",
    "            \"pvalue\":pc[1]\n",
    "        })\n",
    "    sorted_list = sorted(list, key=lambda x: x['statistic'], reverse=True)\n",
    "    final_list = []\n",
    "    for i in range(100):\n",
    "        final_list.append(sorted_list[i])\n",
    "        matrix.append(df.iloc[sorted_list[i][\"user_id\"]].fillna(0))\n",
    "    # return final_list\n",
    "    return pd.DataFrame(matrix).mean().sort_values(ascending=False).head(100).index.tolist()"
   ]
  },
  {
   "cell_type": "code",
   "execution_count": 186,
   "metadata": {},
   "outputs": [],
   "source": [
    "def remove_dumplicate_element(alist,blist):\n",
    "    result = [x for x in alist if x not in blist]\n",
    "    return result"
   ]
  },
  {
   "cell_type": "code",
   "execution_count": 187,
   "metadata": {},
   "outputs": [],
   "source": [
    "def standby_anime(some_list,df):\n",
    "    alist=[]\n",
    "    for i in range(20):\n",
    "        filtered_df = df[df['user_id'] == some_list[i][\"user_id\"]]\n",
    "        rated_anime_ids = filtered_df['anime_id'].tolist()\n",
    "        alist+=rated_anime_ids\n",
    "    return list(set(alist))"
   ]
  },
  {
   "cell_type": "code",
   "execution_count": 188,
   "metadata": {},
   "outputs": [],
   "source": [
    "def anime_Jaccard(df,anime_x,anime_y):\n",
    "    total_count = df[(df['anime_id'] == anime_x) | (df['anime_id'] == anime_y)]['user_id'].nunique()\n",
    "    anime1_ratings = df[df['anime_id'] == anime_x]\n",
    "    anime2_ratings = df[df['anime_id'] == anime_y]\n",
    "    merged_ratings = pd.merge(anime1_ratings, anime2_ratings, on='user_id')\n",
    "    return merged_ratings.shape[0]/math.sqrt(total_count)"
   ]
  },
  {
   "cell_type": "code",
   "execution_count": 189,
   "metadata": {},
   "outputs": [],
   "source": [
    "def anime_rating_deficiency(df,anime_x,anime_y):\n",
    "    book1_ratings = df[df['anime_id'] == anime_x]\n",
    "    book2_ratings = df[df['anime_id'] == anime_y]\n",
    "    merged_ratings = pd.merge(book1_ratings, book2_ratings, on='user_id')\n",
    "    return merged_ratings.mean()[\"rating_x\"]-merged_ratings.mean()[\"rating_y\"]"
   ]
  },
  {
   "cell_type": "code",
   "execution_count": 190,
   "metadata": {},
   "outputs": [],
   "source": [
    "anime = pd.read_csv(\"./anime_data/anime.csv\")\n",
    "rating = pd.read_csv(\"./anime_data/rating.csv\")"
   ]
  },
  {
   "cell_type": "code",
   "execution_count": 191,
   "metadata": {},
   "outputs": [],
   "source": [
    "rating = rating.drop_duplicates(subset=['user_id', 'anime_id'])\n",
    "rating['rating'] = rating['rating'].clip(lower=0)\n",
    "user_rating_matrix = rating.pivot(index=\"user_id\",columns=\"anime_id\",values=\"rating\")"
   ]
  },
  {
   "cell_type": "code",
   "execution_count": 200,
   "metadata": {},
   "outputs": [
    {
     "data": {
      "text/plain": [
       "Index([    1,     5,     6,     7,     8,    15,    16,    17,    18,    19,\n",
       "       ...\n",
       "       34283, 34324, 34325, 34349, 34358, 34367, 34412, 34475, 34476, 34519],\n",
       "      dtype='int64', name='anime_id', length=11200)"
      ]
     },
     "execution_count": 200,
     "metadata": {},
     "output_type": "execute_result"
    }
   ],
   "source": [
    "user_rating_matrix.columns"
   ]
  },
  {
   "cell_type": "code",
   "execution_count": 202,
   "metadata": {},
   "outputs": [],
   "source": [
    "vec = np.zeros([1,11200])"
   ]
  },
  {
   "cell_type": "code",
   "execution_count": 204,
   "metadata": {},
   "outputs": [
    {
     "data": {
      "text/html": [
       "<div>\n",
       "<style scoped>\n",
       "    .dataframe tbody tr th:only-of-type {\n",
       "        vertical-align: middle;\n",
       "    }\n",
       "\n",
       "    .dataframe tbody tr th {\n",
       "        vertical-align: top;\n",
       "    }\n",
       "\n",
       "    .dataframe thead th {\n",
       "        text-align: right;\n",
       "    }\n",
       "</style>\n",
       "<table border=\"1\" class=\"dataframe\">\n",
       "  <thead>\n",
       "    <tr style=\"text-align: right;\">\n",
       "      <th>anime_id</th>\n",
       "      <th>1</th>\n",
       "      <th>5</th>\n",
       "      <th>6</th>\n",
       "      <th>7</th>\n",
       "      <th>8</th>\n",
       "      <th>15</th>\n",
       "      <th>16</th>\n",
       "      <th>17</th>\n",
       "      <th>18</th>\n",
       "      <th>19</th>\n",
       "      <th>...</th>\n",
       "      <th>34283</th>\n",
       "      <th>34324</th>\n",
       "      <th>34325</th>\n",
       "      <th>34349</th>\n",
       "      <th>34358</th>\n",
       "      <th>34367</th>\n",
       "      <th>34412</th>\n",
       "      <th>34475</th>\n",
       "      <th>34476</th>\n",
       "      <th>34519</th>\n",
       "    </tr>\n",
       "  </thead>\n",
       "  <tbody>\n",
       "    <tr>\n",
       "      <th>0</th>\n",
       "      <td>0.0</td>\n",
       "      <td>0.0</td>\n",
       "      <td>0.0</td>\n",
       "      <td>0.0</td>\n",
       "      <td>0.0</td>\n",
       "      <td>0.0</td>\n",
       "      <td>0.0</td>\n",
       "      <td>0.0</td>\n",
       "      <td>0.0</td>\n",
       "      <td>0.0</td>\n",
       "      <td>...</td>\n",
       "      <td>0.0</td>\n",
       "      <td>0.0</td>\n",
       "      <td>0.0</td>\n",
       "      <td>0.0</td>\n",
       "      <td>0.0</td>\n",
       "      <td>0.0</td>\n",
       "      <td>0.0</td>\n",
       "      <td>0.0</td>\n",
       "      <td>0.0</td>\n",
       "      <td>0.0</td>\n",
       "    </tr>\n",
       "  </tbody>\n",
       "</table>\n",
       "<p>1 rows × 11200 columns</p>\n",
       "</div>"
      ],
      "text/plain": [
       "anime_id  1      5      6      7      8      15     16     17     18     \\\n",
       "0           0.0    0.0    0.0    0.0    0.0    0.0    0.0    0.0    0.0   \n",
       "\n",
       "anime_id  19     ...  34283  34324  34325  34349  34358  34367  34412  34475  \\\n",
       "0           0.0  ...    0.0    0.0    0.0    0.0    0.0    0.0    0.0    0.0   \n",
       "\n",
       "anime_id  34476  34519  \n",
       "0           0.0    0.0  \n",
       "\n",
       "[1 rows x 11200 columns]"
      ]
     },
     "execution_count": 204,
     "metadata": {},
     "output_type": "execute_result"
    }
   ],
   "source": [
    "pd.DataFrame(vec,columns=user_rating_matrix.columns)"
   ]
  },
  {
   "cell_type": "code",
   "execution_count": 192,
   "metadata": {},
   "outputs": [],
   "source": [
    "user_id = 3"
   ]
  },
  {
   "cell_type": "code",
   "execution_count": 193,
   "metadata": {},
   "outputs": [
    {
     "name": "stderr",
     "output_type": "stream",
     "text": [
      "C:\\Users\\19445\\AppData\\Local\\Temp\\ipykernel_27328\\4123079746.py:7: ConstantInputWarning: An input array is constant; the correlation coefficient is not defined.\n",
      "  pc = pearsonr(vector,vector_or)\n"
     ]
    }
   ],
   "source": [
    "a=user_rating_matrix.loc[user_id].fillna(0)\n",
    "\n",
    "some_list = find_similiar_user(a,user_rating_matrix)\n",
    "rated_anime_ids = rating[rating['user_id'] == user_id]['anime_id'].tolist()\n",
    "some_list = remove_dumplicate_element(some_list,rated_anime_ids)[:20]"
   ]
  },
  {
   "cell_type": "code",
   "execution_count": 194,
   "metadata": {},
   "outputs": [
    {
     "data": {
      "text/plain": [
       "[6547,\n",
       " 10620,\n",
       " 2167,\n",
       " 1575,\n",
       " 9756,\n",
       " 9253,\n",
       " 2904,\n",
       " 4181,\n",
       " 121,\n",
       " 6746,\n",
       " 226,\n",
       " 4224,\n",
       " 853,\n",
       " 10793,\n",
       " 30,\n",
       " 8525,\n",
       " 5680,\n",
       " 10087,\n",
       " 431,\n",
       " 4898]"
      ]
     },
     "execution_count": 194,
     "metadata": {},
     "output_type": "execute_result"
    }
   ],
   "source": [
    "some_list"
   ]
  },
  {
   "cell_type": "code",
   "execution_count": 195,
   "metadata": {},
   "outputs": [
    {
     "data": {
      "text/plain": [
       "[20,\n",
       " 154,\n",
       " 170,\n",
       " 199,\n",
       " 225,\n",
       " 341,\n",
       " 430,\n",
       " 527,\n",
       " 552,\n",
       " 813,\n",
       " 1119,\n",
       " 1121,\n",
       " 1122,\n",
       " 1132,\n",
       " 1292,\n",
       " 1313,\n",
       " 1526,\n",
       " 1535,\n",
       " 1564,\n",
       " 1689,\n",
       " 1764,\n",
       " 1943,\n",
       " 2201,\n",
       " 2404,\n",
       " 2847,\n",
       " 3588,\n",
       " 4026,\n",
       " 5114,\n",
       " 5231,\n",
       " 6178,\n",
       " 6702,\n",
       " 6880,\n",
       " 7695,\n",
       " 8074,\n",
       " 9107,\n",
       " 9135,\n",
       " 9760,\n",
       " 9917,\n",
       " 9919,\n",
       " 9989,\n",
       " 10408,\n",
       " 10507,\n",
       " 11111,\n",
       " 11703,\n",
       " 11737,\n",
       " 11757,\n",
       " 11759,\n",
       " 11771,\n",
       " 12671,\n",
       " 14075,\n",
       " 14093,\n",
       " 14345,\n",
       " 14513,\n",
       " 16498,\n",
       " 16512,\n",
       " 16782,\n",
       " 16894,\n",
       " 16918,\n",
       " 17265,\n",
       " 18097,\n",
       " 18115,\n",
       " 18393,\n",
       " 19315,\n",
       " 19815,\n",
       " 20021,\n",
       " 20159,\n",
       " 20507,\n",
       " 20583,\n",
       " 21507,\n",
       " 21881,\n",
       " 22199,\n",
       " 22297,\n",
       " 22319,\n",
       " 22547,\n",
       " 22729,\n",
       " 23301,\n",
       " 23321,\n",
       " 23333,\n",
       " 23755,\n",
       " 24415,\n",
       " 26243,\n",
       " 27631,\n",
       " 27899,\n",
       " 28121,\n",
       " 28171,\n",
       " 28223,\n",
       " 28497,\n",
       " 28701,\n",
       " 28891,\n",
       " 29854,\n",
       " 30276,\n",
       " 30503,\n",
       " 31043,\n",
       " 31859]"
      ]
     },
     "execution_count": 195,
     "metadata": {},
     "output_type": "execute_result"
    }
   ],
   "source": [
    "rated_anime_ids"
   ]
  },
  {
   "cell_type": "code",
   "execution_count": 196,
   "metadata": {},
   "outputs": [],
   "source": [
    "rated_anime_ids = [x for x in rated_anime_ids if x != 11757]"
   ]
  },
  {
   "cell_type": "code",
   "execution_count": 197,
   "metadata": {},
   "outputs": [
    {
     "data": {
      "text/plain": [
       "[20,\n",
       " 154,\n",
       " 170,\n",
       " 199,\n",
       " 225,\n",
       " 341,\n",
       " 430,\n",
       " 527,\n",
       " 552,\n",
       " 813,\n",
       " 1119,\n",
       " 1121,\n",
       " 1122,\n",
       " 1132,\n",
       " 1292,\n",
       " 1313,\n",
       " 1526,\n",
       " 1535,\n",
       " 1564,\n",
       " 1689,\n",
       " 1764,\n",
       " 1943,\n",
       " 2201,\n",
       " 2404,\n",
       " 2847,\n",
       " 3588,\n",
       " 4026,\n",
       " 5114,\n",
       " 5231,\n",
       " 6178,\n",
       " 6702,\n",
       " 6880,\n",
       " 7695,\n",
       " 8074,\n",
       " 9107,\n",
       " 9135,\n",
       " 9760,\n",
       " 9917,\n",
       " 9919,\n",
       " 9989,\n",
       " 10408,\n",
       " 10507,\n",
       " 11111,\n",
       " 11703,\n",
       " 11737,\n",
       " 11759,\n",
       " 11771,\n",
       " 12671,\n",
       " 14075,\n",
       " 14093,\n",
       " 14345,\n",
       " 14513,\n",
       " 16498,\n",
       " 16512,\n",
       " 16782,\n",
       " 16894,\n",
       " 16918,\n",
       " 17265,\n",
       " 18097,\n",
       " 18115,\n",
       " 18393,\n",
       " 19315,\n",
       " 19815,\n",
       " 20021,\n",
       " 20159,\n",
       " 20507,\n",
       " 20583,\n",
       " 21507,\n",
       " 21881,\n",
       " 22199,\n",
       " 22297,\n",
       " 22319,\n",
       " 22547,\n",
       " 22729,\n",
       " 23301,\n",
       " 23321,\n",
       " 23333,\n",
       " 23755,\n",
       " 24415,\n",
       " 26243,\n",
       " 27631,\n",
       " 27899,\n",
       " 28121,\n",
       " 28171,\n",
       " 28223,\n",
       " 28497,\n",
       " 28701,\n",
       " 28891,\n",
       " 29854,\n",
       " 30276,\n",
       " 30503,\n",
       " 31043,\n",
       " 31859]"
      ]
     },
     "execution_count": 197,
     "metadata": {},
     "output_type": "execute_result"
    }
   ],
   "source": [
    "rated_anime_ids"
   ]
  },
  {
   "cell_type": "code",
   "execution_count": 198,
   "metadata": {},
   "outputs": [
    {
     "data": {
      "text/plain": [
       "[{'rcm_anime_id': 5680,\n",
       "  'protol_anime_id': 1535,\n",
       "  'predict_rating': 10.895958083832335},\n",
       " {'rcm_anime_id': 226,\n",
       "  'protol_anime_id': 1535,\n",
       "  'predict_rating': 10.8406017994985},\n",
       " {'rcm_anime_id': 4898,\n",
       "  'protol_anime_id': 1535,\n",
       "  'predict_rating': 10.753599306157849},\n",
       " {'rcm_anime_id': 10793,\n",
       "  'protol_anime_id': 16498,\n",
       "  'predict_rating': 10.68702073274638},\n",
       " {'rcm_anime_id': 30,\n",
       "  'protol_anime_id': 1535,\n",
       "  'predict_rating': 10.438846062147341},\n",
       " {'rcm_anime_id': 10620,\n",
       "  'protol_anime_id': 16498,\n",
       "  'predict_rating': 10.413223667431778},\n",
       " {'rcm_anime_id': 121,\n",
       "  'protol_anime_id': 1535,\n",
       "  'predict_rating': 10.409215428446197},\n",
       " {'rcm_anime_id': 2167,\n",
       "  'protol_anime_id': 1535,\n",
       "  'predict_rating': 10.388179128563745},\n",
       " {'rcm_anime_id': 853,\n",
       "  'protol_anime_id': 1535,\n",
       "  'predict_rating': 10.38017858579358},\n",
       " {'rcm_anime_id': 6746,\n",
       "  'protol_anime_id': 1535,\n",
       "  'predict_rating': 10.341810344827586},\n",
       " {'rcm_anime_id': 4224,\n",
       "  'protol_anime_id': 1535,\n",
       "  'predict_rating': 10.266736855143371},\n",
       " {'rcm_anime_id': 431,\n",
       "  'protol_anime_id': 199,\n",
       "  'predict_rating': 10.21902578000139},\n",
       " {'rcm_anime_id': 10087,\n",
       "  'protol_anime_id': 16498,\n",
       "  'predict_rating': 10.087425950697497},\n",
       " {'rcm_anime_id': 6547,\n",
       "  'protol_anime_id': 16498,\n",
       "  'predict_rating': 10.026794895058368},\n",
       " {'rcm_anime_id': 1575,\n",
       "  'protol_anime_id': 1535,\n",
       "  'predict_rating': 9.967850538195268},\n",
       " {'rcm_anime_id': 9756,\n",
       "  'protol_anime_id': 16498,\n",
       "  'predict_rating': 9.937711704930372},\n",
       " {'rcm_anime_id': 2904,\n",
       "  'protol_anime_id': 1535,\n",
       "  'predict_rating': 9.86444822453753},\n",
       " {'rcm_anime_id': 4181,\n",
       "  'protol_anime_id': 1535,\n",
       "  'predict_rating': 9.763096295100492},\n",
       " {'rcm_anime_id': 9253,\n",
       "  'protol_anime_id': 16498,\n",
       "  'predict_rating': 9.238892988929889},\n",
       " {'rcm_anime_id': 8525,\n",
       "  'protol_anime_id': 8074,\n",
       "  'predict_rating': 5.79315768777035}]"
      ]
     },
     "execution_count": 198,
     "metadata": {},
     "output_type": "execute_result"
    }
   ],
   "source": [
    "protol_result=rcm_result_protol(rated_anime_ids,some_list,rating)\n",
    "rcm_result_with_slopeone(protol_result,user_id,rating)"
   ]
  }
 ],
 "metadata": {
  "kernelspec": {
   "display_name": "Python 3",
   "language": "python",
   "name": "python3"
  },
  "language_info": {
   "codemirror_mode": {
    "name": "ipython",
    "version": 3
   },
   "file_extension": ".py",
   "mimetype": "text/x-python",
   "name": "python",
   "nbconvert_exporter": "python",
   "pygments_lexer": "ipython3",
   "version": "3.10.9"
  }
 },
 "nbformat": 4,
 "nbformat_minor": 2
}
